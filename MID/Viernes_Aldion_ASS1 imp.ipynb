{
 "cells": [
  {
   "cell_type": "code",
   "execution_count": 16,
   "metadata": {
    "colab": {
     "base_uri": "https://localhost:8080/"
    },
    "executionInfo": {
     "elapsed": 316,
     "status": "ok",
     "timestamp": 1705579166666,
     "user": {
      "displayName": "VIERNES ALDION",
      "userId": "11187170772094124385"
     },
     "user_tz": -480
    },
    "id": "JqQ6DtU2UC7l",
    "outputId": "725569dd-ae78-4c68-c48c-20218e3c510d"
   },
   "outputs": [
    {
     "name": "stdout",
     "output_type": "stream",
     "text": [
      "Name: Viernes, Aldion I.\n",
      "Age:\n",
      "       19 years old\n",
      "Hobbies:\n",
      "       Cycling\n",
      "       Sleeping\n",
      "       Body Building\n",
      "Skills:\n",
      "       Multitasking\n",
      "       Time Management\n",
      "       Flexibitilty\n",
      "Dream Job/Career:\n",
      "       High Rank Military Officer\n",
      "Favorite Color:\n",
      "       Pink\n",
      "Favorite Animal\n",
      "       Eagle\n",
      "Favorite Movie:\n",
      "       Fight CLub\n",
      "Favorite Song:\n",
      "       Symphony no.9 Ode to Joy by Beethoven\n",
      "\n",
      "\n",
      "Short Description of My Self:\n",
      "\n",
      "My name is Aldion I. Viernes, I'm 19 years old, originally from Pugo, La Union, currently studying Bachelor Science of Information in Technology. One thing about me is I do really love cycling and I do ride a lot, also I do join race events around provinces of La Union and Pangasinan. I previously attended Polythecnic College of La Union in Agoo, La Union, where I studied criminology. Due of my health issues i had no choice but to stop being a Criminology student. Then we decided to move here in Baguio to study as an IT student.\n"
     ]
    }
   ],
   "source": [
    "name = \"Viernes, Aldion I.\"\n",
    "age = \"19 years old\"\n",
    "hobby1 = \"Cycling\"\n",
    "hobby2 = \"Sleeping\"\n",
    "hobby3 = \"Body Building\"\n",
    "skill1= \"Multitasking\"\n",
    "skill2 = \"Time Management\"\n",
    "skill3 = \"Flexibitilty\"\n",
    "job_Career = \"High Rank Military Officer\"\n",
    "color = \"Pink\"\n",
    "animal = \"Eagle\"\n",
    "movie = \"Fight CLub\"\n",
    "song = \"Symphony no.9 Ode to Joy by Beethoven\"\n",
    "\n",
    "\n",
    "print (\"Name:\",name)\n",
    "print (\"Age:\",)\n",
    "print (\"      \",age)\n",
    "print (\"Hobbies:\")\n",
    "print (\"      \",hobby1)\n",
    "print (\"      \",hobby2)\n",
    "print (\"      \",hobby3)\n",
    "print (\"Skills:\")\n",
    "print (\"      \",skill1)\n",
    "print (\"      \",skill2)\n",
    "print (\"      \",skill3)\n",
    "print (\"Dream Job/Career:\")\n",
    "print (\"      \",job_Career)\n",
    "print (\"Favorite Color:\")\n",
    "print (\"      \",color)\n",
    "print (\"Favorite Animal\")\n",
    "print (\"      \",animal)\n",
    "print (\"Favorite Movie:\")\n",
    "print (\"      \",movie)\n",
    "print (\"Favorite Song:\")\n",
    "print (\"      \",song)\n",
    "print (\"\\n\")\n",
    "print (\"Short Description of My Self:\\n\")\n",
    "print (\"\"\"My name is Aldion I. Viernes, I'm 19 years old, originally from Pugo, La Union, currently studying Bachelor Science of Information in Technology. One thing about me is I do really love cycling and I do ride a lot, also I do join race events around provinces of La Union and Pangasinan. I previously attended Polythecnic College of La Union in Agoo, La Union, where I studied criminology. Due of my health issues i had no choice but to stop being a Criminology student. Then we decided to move here in Baguio to study as an IT student.\"\"\")\n"
   ]
  },
  {
   "cell_type": "code",
   "execution_count": null,
   "metadata": {
    "id": "UhOfyt_hXhmO"
   },
   "outputs": [],
   "source": []
  }
 ],
 "metadata": {
  "colab": {
   "authorship_tag": "ABX9TyP1KZ6TIVJRsXg8u1knaO4n",
   "provenance": []
  },
  "kernelspec": {
   "display_name": "Python 3",
   "name": "python3"
  },
  "language_info": {
   "codemirror_mode": {
    "name": "ipython",
    "version": 3
   },
   "file_extension": ".py",
   "mimetype": "text/x-python",
   "name": "python",
   "nbconvert_exporter": "python",
   "pygments_lexer": "ipython3",
   "version": "3.11.9"
  }
 },
 "nbformat": 4,
 "nbformat_minor": 0
}
