{
  "cells": [
    {
      "cell_type": "code",
      "execution_count": 2,
      "metadata": {
        "colab": {
          "base_uri": "https://localhost:8080/"
        },
        "id": "cAuFAAabsQ1l",
        "outputId": "0e2bf460-21bc-43a7-fb84-521e85562508"
      },
      "outputs": [
        {
          "name": "stdout",
          "output_type": "stream",
          "text": [
            "\n",
            "\n",
            "Profile\n",
            "Name: Aldion I. Viernes\n",
            "Degree/Major: Web Tech.\n",
            "Dream Job/Career: High Rank Military Officer\n",
            "Favorite Color: Pink\n",
            "Favorite Animal: Eagle\n",
            "Favorite Movie: Scarlet Heart\n",
            "Favorite Song: Gratefull by NEFFEX\n"
          ]
        }
      ],
      "source": [
        "name=input(\"What is your name?\")\n",
        "major=input(\"What is your major\")\n",
        "dream=input(\"What is your Dream Job/Career\")\n",
        "fcolor=input(\"What is your favorite color\")\n",
        "fanimnal=input(\"Whatis your favorite animal\")\n",
        "fmovie=input(\"What is your favorite movie\")\n",
        "fsong=input(\"What is your favorite song\")\n",
        "print (\"\\n\")\n",
        "print(\"Profile\")\n",
        "print(\"Name:\", name)\n",
        "print(\"Degree/Major:\", major)\n",
        "print(\"Dream Job/Career:\", dream)\n",
        "print(\"Favorite Color:\", fcolor)\n",
        "print(\"Favorite Animal:\", fanimnal)\n",
        "print(\"Favorite Movie:\", fmovie)\n",
        "print(\"Favorite Song:\", fsong)\n",
        "\n"
      ]
    }
  ],
  "metadata": {
    "colab": {
      "provenance": []
    },
    "kernelspec": {
      "display_name": "Python 3",
      "name": "python3"
    },
    "language_info": {
      "codemirror_mode": {
        "name": "ipython",
        "version": 3
      },
      "file_extension": ".py",
      "mimetype": "text/x-python",
      "name": "python",
      "nbconvert_exporter": "python",
      "pygments_lexer": "ipython3",
      "version": "3.11.8"
    }
  },
  "nbformat": 4,
  "nbformat_minor": 0
}
